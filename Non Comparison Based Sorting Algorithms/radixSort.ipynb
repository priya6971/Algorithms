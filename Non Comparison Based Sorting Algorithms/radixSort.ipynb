{
  "nbformat": 4,
  "nbformat_minor": 0,
  "metadata": {
    "colab": {
      "name": "radixSort.ipynb",
      "provenance": []
    },
    "kernelspec": {
      "name": "python3",
      "display_name": "Python 3"
    },
    "language_info": {
      "name": "python"
    }
  },
  "cells": [
    {
      "cell_type": "code",
      "metadata": {
        "colab": {
          "base_uri": "https://localhost:8080/"
        },
        "id": "zr69LbNWGX7w",
        "outputId": "ece34b3e-b98b-486d-c3fd-2fedf28d0920"
      },
      "source": [
        "## Method Definition\n",
        "def countSort(arr, n, place):\n",
        "  sorted_array = [0] * n\n",
        "  count_array = [0] * 10\n",
        "\n",
        "  ## Auxiliary array to store the count of\n",
        "  ## distinct elements present in input array\n",
        "  for i in range(n):\n",
        "    index = arr[i] // place\n",
        "    count_array[index % 10] += 1\n",
        "  \n",
        "  ## cumulative sum calculation\n",
        "  ## Addition of current and previous element\n",
        "  for i in range(1,10):\n",
        "    count_array[i] += count_array[i-1]\n",
        "  '''\n",
        "  for i in range(10):\n",
        "    print(count_array[i], end = \" \")\n",
        "  '''\n",
        "  ## Sorted array\n",
        "  \n",
        "  for i in range(n-1, -1, -1):\n",
        "    index = arr[i] // place\n",
        "    sorted_array[count_array[index % 10] - 1] = arr[i]\n",
        "    count_array[index % 10] -= 1\n",
        "  \n",
        "\n",
        "  ## copy of elements from sorted array to original array\n",
        "  for i in range(n):\n",
        "    arr[i] = sorted_array[i]\n",
        "\n",
        "## Implementation of radix sort\n",
        "def radixSort(arr, n):\n",
        "  ## Get maximum element\n",
        "  max_element = max(arr)\n",
        "\n",
        "  ## Apply count sort starting from least significant digit to \n",
        "  ## most significant digit\n",
        "  place = 1\n",
        "  while max_element // place > 0:\n",
        "    countSort(arr,n,place)\n",
        "    place *= 10\n",
        "  \n",
        "## Driver Method\n",
        "arr = [131, 12, 9, 171, 11, 2, 4]\n",
        "n = len(arr)\n",
        "radixSort(arr, n)\n",
        "\n",
        "print(\"Sorted Array\")\n",
        "for i in range(n):\n",
        "  print(arr[i], end = \" \")"
      ],
      "execution_count": 4,
      "outputs": [
        {
          "output_type": "stream",
          "text": [
            "Sorted Array\n",
            "2 4 9 11 12 131 171 "
          ],
          "name": "stdout"
        }
      ]
    }
  ]
}