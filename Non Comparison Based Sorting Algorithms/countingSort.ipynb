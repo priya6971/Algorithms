{
  "nbformat": 4,
  "nbformat_minor": 0,
  "metadata": {
    "colab": {
      "name": "countingSort.ipynb",
      "provenance": []
    },
    "kernelspec": {
      "name": "python3",
      "display_name": "Python 3"
    },
    "language_info": {
      "name": "python"
    }
  },
  "cells": [
    {
      "cell_type": "code",
      "metadata": {
        "colab": {
          "base_uri": "https://localhost:8080/"
        },
        "id": "E886n-joB2N8",
        "outputId": "0a3252ef-48eb-4cd0-8429-f304be7f0bab"
      },
      "source": [
        "## Method Definition\n",
        "def countSort(arr, n):\n",
        "  sorted_array = [0] * n\n",
        "  count_array = [0] * 10\n",
        "\n",
        "  ## Auxiliary array to store the count of\n",
        "  ## distinct elements present in input array\n",
        "  for i in range(n):\n",
        "    count_array[arr[i]] += 1\n",
        "  \n",
        "  ## cumulative sum calculation\n",
        "  ## Addition of current and previous element\n",
        "  for i in range(1,10):\n",
        "    count_array[i] += count_array[i-1]\n",
        "  '''\n",
        "  for i in range(10):\n",
        "    print(count_array[i], end = \" \")\n",
        "  '''\n",
        "  ## Sorted array \n",
        "  \n",
        "  for i in range(n-1, -1, -1):\n",
        "    sorted_array[count_array[arr[i]] - 1] = arr[i]\n",
        "    count_array[arr[i]] -= 1\n",
        "  \n",
        "\n",
        "  ## copy of elements from sorted array to original array\n",
        "  for i in range(n):\n",
        "    arr[i] = sorted_array[i]\n",
        "  \n",
        "## Driver Method\n",
        "arr = [3, 1, 9, 7, 1, 2, 4]\n",
        "n = len(arr)\n",
        "countSort(arr, n)\n",
        "\n",
        "print(\"Sorted Array\")\n",
        "for i in range(n):\n",
        "  print(arr[i], end = \" \")\n"
      ],
      "execution_count": null,
      "outputs": [
        {
          "output_type": "stream",
          "text": [
            "Sorted Array\n",
            "1 1 2 3 4 7 9 "
          ],
          "name": "stdout"
        }
      ]
    }
  ]
}