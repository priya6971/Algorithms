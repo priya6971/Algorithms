{
  "nbformat": 4,
  "nbformat_minor": 0,
  "metadata": {
    "colab": {
      "name": "bucketSort.ipynb",
      "provenance": []
    },
    "kernelspec": {
      "name": "python3",
      "display_name": "Python 3"
    },
    "language_info": {
      "name": "python"
    }
  },
  "cells": [
    {
      "cell_type": "code",
      "metadata": {
        "colab": {
          "base_uri": "https://localhost:8080/"
        },
        "id": "g_L29vBl6xDx",
        "outputId": "c288234b-4eaa-4587-c50f-708ad19b030d"
      },
      "source": [
        "## Method Definition\n",
        "def bucketSort(arr,n):\n",
        "  bucket = []\n",
        "  bucket_num = 10\n",
        "\n",
        "  ## Empty buckets\n",
        "  for i in range(bucket_num):\n",
        "    bucket.append([])\n",
        "\n",
        "  ## Insert elements into their respective buckets\n",
        "  for j in arr:\n",
        "    index_bucket = int(bucket_num * j)\n",
        "    bucket[index_bucket].append(j)\n",
        "\n",
        "  ## Sorting of elements in each bucket\n",
        "  for i in range(bucket_num):\n",
        "    bucket[i] = sorted(bucket[i])\n",
        "\n",
        "  ## Getting the final sorted array\n",
        "  k = 0\n",
        "  for i in range(bucket_num):\n",
        "    for j in range(len(bucket[i])):\n",
        "      arr[k] = bucket[i][j]\n",
        "      k += 1\n",
        "\n",
        "## Driver Code\n",
        "arr = [.42, .32, .21, .98, .12, .51, .47]\n",
        "n = len(arr)\n",
        "bucketSort(arr, n)\n",
        "print(\"Sorted Array\")\n",
        "for i in range(n):\n",
        "  print(arr[i], end=\" \")"
      ],
      "execution_count": 1,
      "outputs": [
        {
          "output_type": "stream",
          "text": [
            "Sorted Array\n",
            "0.12 0.21 0.32 0.42 0.47 0.51 0.98 "
          ],
          "name": "stdout"
        }
      ]
    }
  ]
}