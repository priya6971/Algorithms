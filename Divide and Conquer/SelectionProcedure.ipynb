{
  "nbformat": 4,
  "nbformat_minor": 0,
  "metadata": {
    "colab": {
      "name": "SelectionProcedure-By-Sriteja bsv.ipynb",
      "provenance": [],
      "collapsed_sections": []
    },
    "kernelspec": {
      "name": "python3",
      "display_name": "Python 3"
    },
    "language_info": {
      "name": "python"
    }
  },
  "cells": [
    {
      "cell_type": "markdown",
      "metadata": {
        "id": "2mPzkMGSFuz2"
      },
      "source": [
        "Question: Given an array of n elements find the k th smallest element in the array?"
      ]
    },
    {
      "cell_type": "code",
      "metadata": {
        "id": "EploGVsxF9hQ"
      },
      "source": [
        "#partition code\n",
        "#if partition code returns  i then it is the i th smallest element in array and element is arr[i-1]\n",
        "#time complexity :- O(n),n=length of the array,as we use only one loop in the function\n",
        "def partition(arr,low,high):#arr = array,low=lower index,high= higher index\n",
        "  pivot = arr[low]#first element as pivot\n",
        "  i = low #moving index\n",
        "  for j in range(low+1,high+1):#traversing the remaining elements to compare with pivot,high+1 as range function dosen't include last element,O(n)\n",
        "    if arr[j]<=arr[low]:#comparing moving index element with pivot if it is less than or equal then we swap it with next element to moving index\n",
        "      i+=1#moving index increased by 1\n",
        "      arr[i],arr[j]=arr[j],arr[i]#swapping moving index element with arr[j]\n",
        "  arr[low],arr[i]=arr[i],arr[low]#swapping moving index with pivot element\n",
        "  return i+1 # position of pivot+1 after swapping.which is i th smalles element in the given array\n"
      ],
      "execution_count": null,
      "outputs": []
    },
    {
      "cell_type": "code",
      "metadata": {
        "colab": {
          "base_uri": "https://localhost:8080/"
        },
        "id": "FwJg-3yAY3Vh",
        "outputId": "28336280-a10a-479f-85fd-a17b8ae8d766"
      },
      "source": [
        "partition([50,75,35,25,80,90,120,110,11,21,31,51,79],0,12)# so here 50 is the 6 th smallest element in given array"
      ],
      "execution_count": null,
      "outputs": [
        {
          "output_type": "execute_result",
          "data": {
            "text/plain": [
              "6"
            ]
          },
          "metadata": {
            "tags": []
          },
          "execution_count": 38
        }
      ]
    },
    {
      "cell_type": "code",
      "metadata": {
        "id": "pMPb26nVZYXZ"
      },
      "source": [
        "def selectionProcedure(arr,low,high,k):#arr=array,low=lower index of array,high=higher index of array,k=kth smallest element in array to find\n",
        "  if len(arr)==1:#small problem if arr lenght is one return the element,O(1)\n",
        "    return arr[low]\n",
        "  else:\n",
        "    m = partition(arr,low,high)                #Timecomplexity:O(length of array),O(high-low)\n",
        "    if m == k:                                 #Timecomplexity:O(1)\n",
        "      return arr[m-1]                          #return the k th smallest element                               \n",
        "    elif m<k:                                  # index is less than k then we move right side of array\n",
        "      return selectionProcedure(arr,m,high,k)  #recursive call: T(high-m)\n",
        "    else:\n",
        "      return selectionProcedure(arr,low,m-2,k) #recursive call: T(m-2-low)\n",
        "#Time complexity \n",
        "#recurrence relation is T(n)=O(n)+O(1)+{T(high-m) or T(m-2-low)}\n",
        "#Best case : T(n)=n+T(n/2) by masters method time complexity is O(n)\n",
        "#worst case: T(n)= n+T(n-1) by substitution method time complexity is O(n^2)\n",
        "#logic: we apply partition and it gives some ith smallest element and if i<k that means element lies right side so we apply partition on right\n",
        "#if i>k we move it left and we do it recursively till we get the element"
      ],
      "execution_count": null,
      "outputs": []
    },
    {
      "cell_type": "code",
      "metadata": {
        "id": "31FP9m2FbHxA"
      },
      "source": [
        "array1=[50,75,35,25,80,90,120,110,11,21,31,51,79]"
      ],
      "execution_count": null,
      "outputs": []
    },
    {
      "cell_type": "code",
      "metadata": {
        "colab": {
          "base_uri": "https://localhost:8080/"
        },
        "id": "Lvx9HNaCcUlC",
        "outputId": "f936fc54-2841-4aa3-bfb0-8b45c2756492"
      },
      "source": [
        "selectionProcedure(array1,0,12,1)"
      ],
      "execution_count": null,
      "outputs": [
        {
          "output_type": "execute_result",
          "data": {
            "text/plain": [
              "11"
            ]
          },
          "metadata": {
            "tags": []
          },
          "execution_count": 41
        }
      ]
    },
    {
      "cell_type": "code",
      "metadata": {
        "colab": {
          "base_uri": "https://localhost:8080/"
        },
        "id": "MHZWr1MicXzP",
        "outputId": "29fa666e-3fab-499a-a113-d3c5ae80e00e"
      },
      "source": [
        "selectionProcedure(array1,0,12,13)"
      ],
      "execution_count": null,
      "outputs": [
        {
          "output_type": "execute_result",
          "data": {
            "text/plain": [
              "120"
            ]
          },
          "metadata": {
            "tags": []
          },
          "execution_count": 42
        }
      ]
    },
    {
      "cell_type": "code",
      "metadata": {
        "colab": {
          "base_uri": "https://localhost:8080/"
        },
        "id": "cFWwOGpbch7p",
        "outputId": "514f71a3-8482-43a2-92df-d3005b24bf15"
      },
      "source": [
        "selectionProcedure(array1,0,12,6)"
      ],
      "execution_count": null,
      "outputs": [
        {
          "output_type": "execute_result",
          "data": {
            "text/plain": [
              "50"
            ]
          },
          "metadata": {
            "tags": []
          },
          "execution_count": 43
        }
      ]
    },
    {
      "cell_type": "code",
      "metadata": {
        "id": "WHWxU-BnmBcv"
      },
      "source": [
        ""
      ],
      "execution_count": null,
      "outputs": []
    }
  ]
}