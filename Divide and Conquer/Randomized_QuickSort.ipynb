{
  "nbformat": 4,
  "nbformat_minor": 0,
  "metadata": {
    "colab": {
      "name": "Randomized_QuickSort_By_Dheeraj Kumar.ipynb",
      "provenance": []
    },
    "kernelspec": {
      "name": "python3",
      "display_name": "Python 3"
    },
    "language_info": {
      "name": "python"
    }
  },
  "cells": [
    {
      "cell_type": "code",
      "metadata": {
        "colab": {
          "base_uri": "https://localhost:8080/"
        },
        "id": "Gd3k15G0vWR5",
        "outputId": "211ec405-c138-41e1-e7eb-bde09eb3acd3"
      },
      "source": [
        "# Randomized quicksort\n",
        "#Done by DHEERAJ\n",
        "#Time complexity:o(nlogn)\n",
        "import random\n",
        "\n",
        "def randompartition(arr,p,q):\n",
        "    random_pivot=random.randrange(p,q) #it will generate a random number between p  and q\n",
        "    arr[p],arr[random_pivot]=arr[random_pivot],arr[p] #it will the first element with pivot element and vice-versa\n",
        "    return partition(arr,p,q)\n",
        "\n",
        "def partition(arr,p,q):\n",
        "    x=arr[p]\n",
        "    i=p\n",
        "    for j in range(i+1,q):\n",
        "        if arr[j]<=x:\n",
        "            i+=1\n",
        "            arr[i],arr[j]=arr[j],arr[i]\n",
        "    arr[p],arr[i]=arr[i],arr[p]\n",
        "    return i\n",
        "\n",
        "def quicksort(arr,p,q):\n",
        "    if len(arr)==1:\n",
        "        return arr\n",
        "    elif p<q:\n",
        "        m=randompartition(arr,p,q)\n",
        "        quicksort(arr,p,m)\n",
        "        quicksort(arr,m+1,q)\n",
        "    return arr\n",
        "\n",
        "if __name__ == \"__main__\":\n",
        "    array = [10, 6, 8, 9, 1, 4]\n",
        "    quicksort(array, 0, len(array))\n",
        "    print(array)"
      ],
      "execution_count": 1,
      "outputs": [
        {
          "output_type": "stream",
          "text": [
            "[1, 4, 6, 8, 9, 10]\n"
          ],
          "name": "stdout"
        }
      ]
    },
    {
      "cell_type": "code",
      "metadata": {
        "id": "K1F4E6rovfjw"
      },
      "source": [
        ""
      ],
      "execution_count": null,
      "outputs": []
    }
  ]
}