{
  "nbformat": 4,
  "nbformat_minor": 0,
  "metadata": {
    "colab": {
      "name": "Power of an Element.ipynb",
      "provenance": []
    },
    "kernelspec": {
      "name": "python3",
      "display_name": "Python 3"
    },
    "language_info": {
      "name": "python"
    }
  },
  "cells": [
    {
      "cell_type": "markdown",
      "metadata": {
        "id": "OaUgeOTzCwkS"
      },
      "source": [
        "## **Finding of Power of an Element**"
      ]
    },
    {
      "cell_type": "markdown",
      "metadata": {
        "id": "3P7UIOM3DE-i"
      },
      "source": [
        "Implementation using Divide and Conquer Approach"
      ]
    },
    {
      "cell_type": "code",
      "metadata": {
        "id": "DIJXjw5X3ayK",
        "colab": {
          "base_uri": "https://localhost:8080/"
        },
        "outputId": "582c3d57-139b-4a77-b03e-b12a200e23bd"
      },
      "source": [
        "## Method Definition\n",
        "def DAC_Power(a, n):\n",
        "  if n == 1:\n",
        "    return a\n",
        "  else:\n",
        "    mid = n//2\n",
        "    b = DAC_Power(a, mid)\n",
        "    c = b * b\n",
        "    if n % 2 == 0:\n",
        "      return c\n",
        "    else:\n",
        "      return c * a\n",
        "\n",
        "## Driver Code\n",
        "a = 2\n",
        "n = 64\n",
        "result = DAC_Power(a, n)\n",
        "print(\"Power of an Element is:\", result)"
      ],
      "execution_count": 1,
      "outputs": [
        {
          "output_type": "stream",
          "text": [
            "Power of an Element is: 18446744073709551616\n"
          ],
          "name": "stdout"
        }
      ]
    },
    {
      "cell_type": "markdown",
      "metadata": {
        "id": "AyTj9LvbC4_u"
      },
      "source": [
        "Time Complexity of above code : O(log n)"
      ]
    }
  ]
}