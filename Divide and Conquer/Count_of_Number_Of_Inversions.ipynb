{
  "nbformat": 4,
  "nbformat_minor": 0,
  "metadata": {
    "colab": {
      "name": "Count of Number Of Inversions.ipynb",
      "provenance": [],
      "collapsed_sections": []
    },
    "kernelspec": {
      "name": "python3",
      "display_name": "Python 3"
    },
    "language_info": {
      "name": "python"
    }
  },
  "cells": [
    {
      "cell_type": "markdown",
      "metadata": {
        "id": "npXviUSj-E_7"
      },
      "source": [
        "## **Introduction**\n",
        "\n",
        "Count of Number of Inversions :\n",
        "\n",
        "Given an array, if i < j and arr[i] > arr[j] then the pair (i, j) requires an inversion. All such type of pairs needs to be counted."
      ]
    },
    {
      "cell_type": "markdown",
      "metadata": {
        "id": "KfnHc7iM-Meh"
      },
      "source": [
        "## **Brute Force Approach**"
      ]
    },
    {
      "cell_type": "code",
      "metadata": {
        "colab": {
          "base_uri": "https://localhost:8080/"
        },
        "id": "gsGAQXwk-LLl",
        "outputId": "6059aaa8-5de1-4ec6-f5d2-59ebb1ebae4b"
      },
      "source": [
        "## Method Definition\n",
        "def inversionCount(array, n):\n",
        "  count = 0\n",
        "  for i in range(0,n):\n",
        "    for j in range(i+1, n):\n",
        "      if (array[i] > array[j]):\n",
        "        count += 1\n",
        "  return count\n",
        "## Driver Code\n",
        "array = [70, 50, 60, 10, 20, 30, 80, 15]\n",
        "n = len(array)\n",
        "print(\"Number of Inversions are:\", inversionCount(array, n))"
      ],
      "execution_count": 1,
      "outputs": [
        {
          "output_type": "stream",
          "text": [
            "Number of Inversions are: 17\n"
          ],
          "name": "stdout"
        }
      ]
    },
    {
      "cell_type": "markdown",
      "metadata": {
        "id": "F3mGSsCc_S5Q"
      },
      "source": [
        "**Time Complexity of above Brute Force Approach : O(n^2)**\n",
        "\n",
        "**Space Complexity of above Brute Force Approach : O(1)**"
      ]
    },
    {
      "cell_type": "markdown",
      "metadata": {
        "id": "sqNlSTtTAFdD"
      },
      "source": [
        "## **Divide and Conquer Approach**"
      ]
    },
    {
      "cell_type": "code",
      "metadata": {
        "colab": {
          "base_uri": "https://localhost:8080/"
        },
        "id": "jAu0FWAS_Rlv",
        "outputId": "7c24c79c-be93-4cf2-d81e-f32ccae264d1"
      },
      "source": [
        "# Method Definition\n",
        "def mergeSort(arr, n):\n",
        "    # A temp_arr is created to store\n",
        "    # sorted array in merge function\n",
        "    temp_arr = [0]*n\n",
        "    return _mergeSort(arr, temp_arr, 0, n-1)\n",
        "\n",
        "\n",
        "def _mergeSort(arr, temp_arr, left, right):\n",
        "  inv_count = 0\n",
        "  if left < right:\n",
        "    mid = left + (right - left)//2\n",
        "    inv_count += _mergeSort(arr, temp_arr, left, mid)\n",
        "    inv_count += _mergeSort(arr, temp_arr, mid + 1, right)\n",
        "    inv_count += merge(arr, temp_arr, left, mid, right)\n",
        "  return inv_count\n",
        " \n",
        "def merge(arr, temp_arr, left, mid, right):\n",
        "    i = left     \n",
        "    j = mid + 1 \n",
        "    k = left    \n",
        "    inv_count = 0\n",
        "    while i <= mid and j <= right:\n",
        "      if arr[i] <= arr[j]:          ## No Inversions\n",
        "        temp_arr[k] = arr[i]\n",
        "        k += 1\n",
        "        i += 1\n",
        "      else:\n",
        "        temp_arr[k] = arr[j]        ## Inversion will occur.\n",
        "        inv_count += (mid-i + 1)    ## Number of swaps\n",
        "        k += 1\n",
        "        j += 1\n",
        " \n",
        "    # Copy the remaining elements of left\n",
        "    # subarray into temporary array\n",
        "    while i <= mid:\n",
        "        temp_arr[k] = arr[i]\n",
        "        k += 1\n",
        "        i += 1\n",
        " \n",
        "    # Copy the remaining elements of right\n",
        "    # subarray into temporary array\n",
        "    while j <= right:\n",
        "        temp_arr[k] = arr[j]\n",
        "        k += 1\n",
        "        j += 1\n",
        " \n",
        "    # Copy the sorted subarray into Original array\n",
        "    for i in range(left, right + 1):\n",
        "        arr[i] = temp_arr[i]\n",
        "         \n",
        "    return inv_count\n",
        " \n",
        "# Driver Code\n",
        "array = [70, 50, 60, 10, 20, 30, 80, 15]\n",
        "n = len(array)\n",
        "count = mergeSort(array, n)\n",
        "print(\"Number of Inversions are:\", count)"
      ],
      "execution_count": 10,
      "outputs": [
        {
          "output_type": "stream",
          "text": [
            "Number of Inversions are: 17\n"
          ],
          "name": "stdout"
        }
      ]
    },
    {
      "cell_type": "markdown",
      "metadata": {
        "id": "-940WjkLF7Sn"
      },
      "source": [
        "**Time Complexity of Divide and Conquer Approach : O(n logn)**\n",
        "\n",
        "**Space Complexity of Divide and Conquer Approach : O(n)**"
      ]
    }
  ]
}