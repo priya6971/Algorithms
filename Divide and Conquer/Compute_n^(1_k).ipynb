{
  "nbformat": 4,
  "nbformat_minor": 0,
  "metadata": {
    "colab": {
      "name": "Compute n^(1/k).ipynb",
      "provenance": []
    },
    "kernelspec": {
      "name": "python3",
      "display_name": "Python 3"
    },
    "language_info": {
      "name": "python"
    }
  },
  "cells": [
    {
      "cell_type": "code",
      "metadata": {
        "colab": {
          "base_uri": "https://localhost:8080/"
        },
        "id": "WzC6S5s9WDQS",
        "outputId": "9a01607f-2ba4-4665-818a-a73d582d347b"
      },
      "source": [
        "## Method Definition\n",
        "## Pre-requisite : Divide and Conquer\n",
        "## Time Complexity : O(log n)\n",
        "def DAC_Power(a, n):\n",
        "  if n == 1:\n",
        "    return a\n",
        "  else:\n",
        "    mid = n//2\n",
        "    b = DAC_Power(a, mid)\n",
        "    c = b * b\n",
        "    if n % 2 == 0:\n",
        "      return c\n",
        "    else:\n",
        "      return c * a\n",
        "\n",
        "## Method Definition\n",
        "## Pre-requisite : Binary Search \n",
        "def compute_Power(low, high, n, k):\n",
        "  mid = low + (high - low)//2\n",
        "  if (low <= high):\n",
        "    first_value = DAC_Power(mid, k)       ## kth power of mid element \n",
        "    second_value = DAC_Power(mid+1, k)    ## kth power of mid+1 element\n",
        "    if (first_value <= n):\n",
        "      if (second_value > n):\n",
        "        ## return the mid element the kth root if its kth power is less than or \n",
        "        ## equal to n and mid+1 to the power k is greater than n\n",
        "        return mid\n",
        "      else:\n",
        "        ## search in half space after mid as kth power is not between 0 to mid\n",
        "        return compute_Power(mid+1, high, n, k)\n",
        "    else:\n",
        "      ## search between 0 to mid-1 as mid power k is greater than n and \n",
        "      ## we need not search in other half from mid+1 to end\n",
        "      return compute_Power(0, mid-1, n, k)\n",
        "\n",
        "## Driver code\n",
        "n = 10\n",
        "k = 5\n",
        "result = compute_Power(0, n, n, k)\n",
        "print(result)"
      ],
      "execution_count": 3,
      "outputs": [
        {
          "output_type": "stream",
          "text": [
            "1\n"
          ],
          "name": "stdout"
        }
      ]
    },
    {
      "cell_type": "code",
      "metadata": {
        "id": "-zhwla0nak6g"
      },
      "source": [
        ""
      ],
      "execution_count": null,
      "outputs": []
    }
  ]
}