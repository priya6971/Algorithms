{
  "nbformat": 4,
  "nbformat_minor": 0,
  "metadata": {
    "colab": {
      "name": "Max_Min.ipynb",
      "provenance": []
    },
    "kernelspec": {
      "name": "python3",
      "display_name": "Python 3"
    },
    "language_info": {
      "name": "python"
    }
  },
  "cells": [
    {
      "cell_type": "markdown",
      "metadata": {
        "id": "8Jcyr2hctENQ"
      },
      "source": [
        "# **Finding of Maximum and Minimum in an array**\n",
        "\n",
        "\n",
        "Input : An array of n numbers\n",
        "\n",
        "Output : Maximum Element and Minimum Element"
      ]
    },
    {
      "cell_type": "code",
      "metadata": {
        "colab": {
          "base_uri": "https://localhost:8080/"
        },
        "id": "D9w70sdiYG9h",
        "outputId": "47736a62-58b6-4dde-9edc-1fc7df075812"
      },
      "source": [
        "## Method Definition\n",
        "def DAC_maxmin(array, low, high):\n",
        "  max_array = array[low]\n",
        "  min_array = array[low]\n",
        "\n",
        "  if low == high:\n",
        "    return (max_array, min_array)\n",
        "  \n",
        "  elif low == high - 1:\n",
        "    if array[low] > array[high]:\n",
        "      max_array = array[low]\n",
        "      min_array = array[high]\n",
        "    else:\n",
        "      max_array = array[high]\n",
        "      min_array = array[low]\n",
        "    return (max_array, min_array)\n",
        "  \n",
        "  else:\n",
        "    mid = low + (high-low)//2\n",
        "    max_1, min_1 = DAC_maxmin(array, low, mid)\n",
        "    max_2, min_2 = DAC_maxmin(array, mid+1, high)\n",
        "\n",
        "  return (max(max_1,max_2), min(min_1,min_2))\n",
        "\n",
        "## Driver Code\n",
        "array = [50, 90, 170, 25, 15, 7, 190, 4, 59]\n",
        "high = len(array) - 1\n",
        "low = 0\n",
        "max_array, min_array = DAC_maxmin(array, low, high)\n",
        "print(\"Minimum element in an array:\", max_array)\n",
        "print(\"Maximum element in an array\", min_array)"
      ],
      "execution_count": 1,
      "outputs": [
        {
          "output_type": "stream",
          "text": [
            "Minimum element in an array: 190\n",
            "Maximum element in an array 4\n"
          ],
          "name": "stdout"
        }
      ]
    },
    {
      "cell_type": "markdown",
      "metadata": {
        "id": "WgJTz8zAtZxL"
      },
      "source": [
        "**Time Complexity of Finding of Maxima and Minima using Divide and Conquer Approach : O(n)**"
      ]
    }
  ]
}