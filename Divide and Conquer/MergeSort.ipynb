{
  "nbformat": 4,
  "nbformat_minor": 0,
  "metadata": {
    "colab": {
      "name": "MergeSort.ipynb",
      "provenance": []
    },
    "kernelspec": {
      "name": "python3",
      "display_name": "Python 3"
    },
    "language_info": {
      "name": "python"
    }
  },
  "cells": [
    {
      "cell_type": "code",
      "metadata": {
        "colab": {
          "base_uri": "https://localhost:8080/"
        },
        "id": "GC0TmTapWB9y",
        "outputId": "71d8499d-471a-49f0-e14e-0f79f64eb1d4"
      },
      "source": [
        "# Python program for implementation of MergeSort\n",
        "def mergeSort(arr):\n",
        "  ## Moving Top to Bottom in a Recursive Tree -> Whiteboard\n",
        "\tif len(arr) > 1:\n",
        "    # Finding the mid of the array\n",
        "\t\tmid = len(arr)//2\n",
        "    # Dividing the array elements into two halves\n",
        "    # Left Subtree\n",
        "\t\tL = arr[:mid]\n",
        "\t\t# Right Subtree\n",
        "\t\tR = arr[mid:]\n",
        "\t\t# Sorting the first half(Left Subtree)\n",
        "\t\tmergeSort(L)    # Recursive Call\n",
        "\t\t# Sorting the second half(Right Subtree)\n",
        "\t\tmergeSort(R)    # Recursive Call\n",
        "\n",
        "    ## Move from Bottom to Top by applying merge procedure -> Whiteboard\n",
        "\t\ti = j = k = 0\n",
        "\t\t# Copy data to temp arrays L[] and R[]\n",
        "\t\twhile i < len(L) and j < len(R):\n",
        "\t\t\tif L[i] < R[j]:\n",
        "\t\t\t\tarr[k] = L[i]\n",
        "\t\t\t\ti += 1\n",
        "\t\t\telse:\n",
        "\t\t\t\tarr[k] = R[j]\n",
        "\t\t\t\tj += 1\n",
        "\t\t\tk += 1\n",
        "\n",
        "\t\t# Checking if any element was left\n",
        "\t\twhile i < len(L):\n",
        "\t\t\tarr[k] = L[i]\n",
        "\t\t\ti += 1\n",
        "\t\t\tk += 1\n",
        "\n",
        "\t\twhile j < len(R):\n",
        "\t\t\tarr[k] = R[j]\n",
        "\t\t\tj += 1\n",
        "\t\t\tk += 1\n",
        "\n",
        "# Code to print the list\n",
        "def printList(arr):\n",
        "\tfor i in range(len(arr)):\n",
        "\t\tprint(arr[i], end=\" \")\n",
        "\tprint()\n",
        "\n",
        "\n",
        "# Driver Code\n",
        "if __name__ == '__main__':\n",
        "\tarr = [50, 20, 40, 90, 88, 11, 13]\n",
        "\tprint(\"Given array is\", end=\"\\n\")\n",
        "\tprintList(arr)\n",
        "\tmergeSort(arr)\n",
        "\tprint(\"Sorted array is: \", end=\"\\n\")\n",
        "\tprintList(arr)"
      ],
      "execution_count": null,
      "outputs": [
        {
          "output_type": "stream",
          "text": [
            "Given array is\n",
            "50 20 40 90 88 11 13 \n",
            "Sorted array is: \n",
            "11 13 20 40 50 88 90 \n"
          ],
          "name": "stdout"
        }
      ]
    }
  ]
}