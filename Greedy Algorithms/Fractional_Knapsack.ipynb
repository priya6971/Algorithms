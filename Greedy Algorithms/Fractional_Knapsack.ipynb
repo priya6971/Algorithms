{
  "nbformat": 4,
  "nbformat_minor": 0,
  "metadata": {
    "colab": {
      "name": "Fractional Knapsack.ipynb",
      "provenance": []
    },
    "kernelspec": {
      "name": "python3",
      "display_name": "Python 3"
    },
    "language_info": {
      "name": "python"
    }
  },
  "cells": [
    {
      "cell_type": "markdown",
      "metadata": {
        "id": "sPMoU_atAEzT"
      },
      "source": [
        "**Problem Statement :**\n",
        "\n",
        "Given weights and values of n items, we need to put these items in a knapsack of capacity W to get the maximum total value in the knapsack."
      ]
    },
    {
      "cell_type": "code",
      "metadata": {
        "colab": {
          "base_uri": "https://localhost:8080/"
        },
        "id": "l2fYeVfLY1Nt",
        "outputId": "3bb69b6f-c63c-4646-fd6b-a87a81a56bda"
      },
      "source": [
        "class FractionalKnapsack:  \n",
        "    def getMaxValue(weight,profit,capacity):\n",
        "      index = list(range(len(profit)))\n",
        "    # contains ratios of profit to weight\n",
        "      ratio = [p/w for p, w in zip(profit, weight)]\n",
        "    # index is sorted according to profit-to-weight ratio in decreasing order\n",
        "      index.sort(key=lambda i: ratio[i], reverse=True)\n",
        " \n",
        "      max_value = 0\n",
        "      fractions = [0]*len(profit)\n",
        "      for i in index:\n",
        "        if weight[i] <= capacity:\n",
        "            fractions[i] = 1\n",
        "            max_value += profit[i]\n",
        "            capacity -= weight[i]\n",
        "        else:\n",
        "            fractions[i] = capacity/weight[i]\n",
        "            max_value += profit[i]*capacity/weight[i]\n",
        "            break\n",
        " \n",
        "      return max_value, fractions\n",
        "\n",
        "       \n",
        "\n",
        "wt=[5, 10,12, 4, 7, 9, 3]\n",
        "profit=[25, 75, 100, 50, 45, 90, 30]\n",
        "capacity=37\n",
        "maxValue, x = FractionalKnapsack.getMaxValue(wt,profit,capacity)\n",
        "print(\"Maximum value in Knapsack =\", maxValue)\n",
        "print(\"Fractions are\", x, end = \" \")"
      ],
      "execution_count": 31,
      "outputs": [
        {
          "output_type": "stream",
          "text": [
            "Maximum value in Knapsack = 337.5\n",
            "Fractions are [0, 0.9, 1, 1, 0, 1, 1] "
          ],
          "name": "stdout"
        }
      ]
    },
    {
      "cell_type": "markdown",
      "metadata": {
        "id": "6ivA5szWAAzb"
      },
      "source": [
        "Time Complexity : O(n log n)"
      ]
    }
  ]
}