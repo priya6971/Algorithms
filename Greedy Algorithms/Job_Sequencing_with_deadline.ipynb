{
  "nbformat": 4,
  "nbformat_minor": 0,
  "metadata": {
    "colab": {
      "name": "Job Sequencing with deadline.ipynb",
      "provenance": []
    },
    "kernelspec": {
      "name": "python3",
      "display_name": "Python 3"
    },
    "language_info": {
      "name": "python"
    }
  },
  "cells": [
    {
      "cell_type": "markdown",
      "metadata": {
        "id": "rOTmm5d-80_b"
      },
      "source": [
        "**Problem Statement :**\n",
        "Given an array of jobs where every job has a deadline and associated profit if the job is finished before the deadline. Objective is to maximize total profit if only one job can be scheduled at a time."
      ]
    },
    {
      "cell_type": "code",
      "metadata": {
        "colab": {
          "base_uri": "https://localhost:8080/"
        },
        "id": "q06kcnFczbhd",
        "outputId": "95117204-4ec3-415d-d0c7-9b95242f854a"
      },
      "source": [
        "def jobScheduling(arr, max_job):\n",
        "  n = len(arr)\n",
        "\n",
        "  for i in range(n):\n",
        "    for j in range(n-1-i):\n",
        "      if arr[j][2] < arr[j+1][2]:\n",
        "        arr[j], arr[j+1] = arr[j+1], arr[j]\n",
        "\n",
        "# To keep track of free time slot\n",
        "  res = [False] * max_job\n",
        "  job = ['-1'] * max_job\n",
        "\n",
        "  for i in range(n):\n",
        "    for j in range(min(max_job - 1, arr[i][1] - 1), -1, -1):\n",
        "      if res[j] is False:\n",
        "        res[j] = True\n",
        "        job[j] = arr[i][0]\n",
        "        break\n",
        "  print(job)\n",
        "\n",
        "\n",
        "arr = [['J1', 5, 50],\n",
        "       ['J2', 3, 60],\n",
        "       ['J3', 2, 70],\n",
        "       ['J4', 4, 55],\n",
        "       ['J5', 3, 65],\n",
        "       ['J6', 2, 75],\n",
        "       ['J7', 3, 90]]\n",
        "\n",
        "jobScheduling(arr, 5)"
      ],
      "execution_count": 13,
      "outputs": [
        {
          "output_type": "stream",
          "text": [
            "['J3', 'J6', 'J7', 'J4', 'J1']\n"
          ],
          "name": "stdout"
        }
      ]
    },
    {
      "cell_type": "markdown",
      "metadata": {
        "id": "6Iqv4Pnu9B_M"
      },
      "source": [
        "Time Complexity : O(n ^ 2)"
      ]
    }
  ]
}