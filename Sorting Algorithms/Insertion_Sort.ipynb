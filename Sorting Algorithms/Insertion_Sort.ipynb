{
  "nbformat": 4,
  "nbformat_minor": 0,
  "metadata": {
    "colab": {
      "name": "Insertion_Sort.ipynb",
      "provenance": []
    },
    "kernelspec": {
      "name": "python3",
      "display_name": "Python 3"
    },
    "language_info": {
      "name": "python"
    }
  },
  "cells": [
    {
      "cell_type": "code",
      "metadata": {
        "colab": {
          "base_uri": "https://localhost:8080/"
        },
        "id": "L0BE71y0xLFu",
        "outputId": "1ce4eb48-0450-450b-8d57-a0188c0b03cf"
      },
      "source": [
        "## Method Definition\n",
        "def insertionSort(array, n):\n",
        "  for i in range(1, n):\n",
        "    key = array[i]\n",
        "    j = i - 1\n",
        "    while j>=0 and key < array[j]:\n",
        "      array[j+1] = array[j]\n",
        "      j = j - 1\n",
        "    array[j+1] = key\n",
        "\n",
        "## Driver code\n",
        "array = [75, 90, 100, 95, 85, 50, 100, 110, 7]\n",
        "n = len(array)\n",
        "insertionSort(array, n)\n",
        "print(\"Sorted Array\")\n",
        "for i in range(0,n):\n",
        "  print(array[i], end = \" \")"
      ],
      "execution_count": 2,
      "outputs": [
        {
          "output_type": "stream",
          "text": [
            "Sorted Array\n",
            "7 50 75 85 90 95 100 100 110 "
          ],
          "name": "stdout"
        }
      ]
    },
    {
      "cell_type": "markdown",
      "metadata": {
        "id": "W7s2cvyn5wWe"
      },
      "source": [
        "**Time Complexity -** O(n^2)\n",
        "\n",
        "**Space Complexity -** O(1)"
      ]
    },
    {
      "cell_type": "code",
      "metadata": {
        "id": "R3uzQv9I5jbb"
      },
      "source": [
        ""
      ],
      "execution_count": null,
      "outputs": []
    }
  ]
}