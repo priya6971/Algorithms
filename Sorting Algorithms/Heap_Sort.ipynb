{
  "nbformat": 4,
  "nbformat_minor": 0,
  "metadata": {
    "colab": {
      "name": "Heap Sort.ipynb",
      "provenance": []
    },
    "kernelspec": {
      "name": "python3",
      "display_name": "Python 3"
    },
    "language_info": {
      "name": "python"
    }
  },
  "cells": [
    {
      "cell_type": "code",
      "metadata": {
        "colab": {
          "base_uri": "https://localhost:8080/"
        },
        "id": "bYDdv5P5VXIA",
        "outputId": "3f5a7093-0982-48ce-df73-c34fb2080d8b"
      },
      "source": [
        "## Method definition\n",
        "def heapify(array, n, i):\n",
        "  maximum = i\n",
        "  left_node = 2*i + 1\n",
        "  right_node = 2*i + 2\n",
        "\n",
        "  ## Checking if left node of root exists and is greater than root node\n",
        "  if left_node<n and array[i]<array[left_node]:\n",
        "    maximum = left_node\n",
        "\n",
        "  ## Checking if right node of root exists and is greater than root node\n",
        "  if right_node<n and array[maximum]<array[right_node]:\n",
        "    maximum = right_node\n",
        "\n",
        "  if maximum != i:\n",
        "    ## swap \n",
        "    array[i], array[maximum] = array[maximum], array[i]\n",
        "    ## heapify the root\n",
        "    ## recursion\n",
        "    heapify(array, n, maximum)\n",
        "\n",
        "\n",
        "def heapSort(array, n):\n",
        "  ## Build heap --> O(n)\n",
        "  for i in range(n//2-1, -1, -1):\n",
        "    heapify(array,n,i)\n",
        "  \n",
        "  ## One by one extract the elements\n",
        "  ## Time complexity - O(n log n)\n",
        "  for i in range(n-1, 0, -1):\n",
        "    ## swap the root node with the last node\n",
        "    array[i], array[0] = array[0], array[i]\n",
        "    heapify(array,i,0)   ## O(logn)\n",
        "\n",
        "## Driver code\n",
        "array = [75, 25, 35, 45, 90, 80, 60, 20, 30, 77, 88, 99, 11, 21, 31, 41, 5, 8, 3]\n",
        "n = len(array)\n",
        "heapSort(array, n)\n",
        "print(\"Sorted array\")\n",
        "for i in range(0,n):\n",
        "  print(array[i], end=\" \")"
      ],
      "execution_count": 3,
      "outputs": [
        {
          "output_type": "stream",
          "text": [
            "Sorted array\n",
            "3 5 8 11 20 21 25 30 31 35 41 45 60 75 77 80 88 90 99 "
          ],
          "name": "stdout"
        }
      ]
    },
    {
      "cell_type": "markdown",
      "metadata": {
        "id": "ayhuqQ44n88I"
      },
      "source": [
        "**Overall Time complexity of above code is : O(n log n)**"
      ]
    }
  ]
}