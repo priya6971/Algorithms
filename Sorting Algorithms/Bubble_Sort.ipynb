{
  "nbformat": 4,
  "nbformat_minor": 0,
  "metadata": {
    "colab": {
      "name": "Bubble Sort.ipynb",
      "provenance": []
    },
    "kernelspec": {
      "name": "python3",
      "display_name": "Python 3"
    },
    "language_info": {
      "name": "python"
    }
  },
  "cells": [
    {
      "cell_type": "code",
      "metadata": {
        "colab": {
          "base_uri": "https://localhost:8080/"
        },
        "id": "p8mLBogEMbzU",
        "outputId": "68d28d13-d84c-48e5-d736-989178ede835"
      },
      "source": [
        "## Method Definition\n",
        "def bubbleSort(array, n):\n",
        "  for i in range(n):\n",
        "    for j in range(0, n-i-1):\n",
        "      ## Checking for adjacent elements\n",
        "      if array[j] > array[j+1]:\n",
        "        array[j], array[j+1] = array[j+1], array[j]\n",
        "\n",
        "## Driver Code\n",
        "array = [70, 20, 50, 30, 90, 5, 15]\n",
        "n = len(array)\n",
        "bubbleSort(array, n) ## Function Call\n",
        "print(\"Sorted Array :\")\n",
        "for i in range(0,n):\n",
        "  print(array[i], end = \" \")"
      ],
      "execution_count": 4,
      "outputs": [
        {
          "output_type": "stream",
          "text": [
            "Sorted Array :\n",
            "5 15 20 30 50 70 90 "
          ],
          "name": "stdout"
        }
      ]
    },
    {
      "cell_type": "markdown",
      "metadata": {
        "id": "oOVPtuLDOB8C"
      },
      "source": [
        "**Time Complexity :**\n",
        "\n",
        "**Worst Case and Average Case Time Complexity :** O(n^2)\n",
        "\n",
        "**Best Case Time Complexity :** O(n) [Minimum time when array is already sorted]\n",
        "\n",
        "**Stable :** Yes\n",
        "\n",
        "\n"
      ]
    }
  ]
}