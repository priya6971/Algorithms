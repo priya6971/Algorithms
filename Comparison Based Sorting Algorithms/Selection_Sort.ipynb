{
  "nbformat": 4,
  "nbformat_minor": 0,
  "metadata": {
    "colab": {
      "name": "Selection_Sort.ipynb",
      "provenance": []
    },
    "kernelspec": {
      "name": "python3",
      "display_name": "Python 3"
    },
    "language_info": {
      "name": "python"
    }
  },
  "cells": [
    {
      "cell_type": "code",
      "metadata": {
        "id": "7ZVHTTm-kuNf",
        "colab": {
          "base_uri": "https://localhost:8080/"
        },
        "outputId": "10e14dc9-3dff-4779-cc0d-688011016e89"
      },
      "source": [
        "## Method Definition\n",
        "def selectionSort(array, n):\n",
        "  for i in range(n):\n",
        "    min_idx = i\n",
        "    for j in range(i+1, n):\n",
        "      if array[min_idx] > array[j]:\n",
        "        min_idx = j\n",
        "    \n",
        "    array[i], array[min_idx] = array[min_idx],array[i]\n",
        "## Driver code\n",
        "array = [50, 25, 38, 44, 99, 16, 11, 21]\n",
        "n = len(array)\n",
        "selectionSort(array, n)\n",
        "print(\"Sorted Array\")\n",
        "for i in range(0,n):\n",
        "  print(array[i], end = \" \")"
      ],
      "execution_count": null,
      "outputs": [
        {
          "output_type": "stream",
          "text": [
            "Sorted Array\n",
            "11 16 21 25 38 44 50 99 "
          ],
          "name": "stdout"
        }
      ]
    },
    {
      "cell_type": "markdown",
      "metadata": {
        "id": "YproL2-8yeoK"
      },
      "source": [
        "**Time Complexity -** O(n^2)\n",
        "\n",
        "**Space Complexity -** O(1)"
      ]
    }
  ]
}