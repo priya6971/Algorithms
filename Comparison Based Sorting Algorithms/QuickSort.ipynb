{
  "nbformat": 4,
  "nbformat_minor": 0,
  "metadata": {
    "colab": {
      "name": "QuickSort.ipynb",
      "provenance": [],
      "collapsed_sections": []
    },
    "kernelspec": {
      "name": "python3",
      "display_name": "Python 3"
    },
    "language_info": {
      "name": "python"
    }
  },
  "cells": [
    {
      "cell_type": "code",
      "metadata": {
        "id": "v8uA-6GnWKCS"
      },
      "source": [
        "def partition(arr,low,high): # arr = array,low = lower index of array, high = higher index of array\n",
        "  '''\n",
        "  partition function returns an index(i) between [low,high] and modifies the array \n",
        "  in such a way that, if arr[i]=v all elements with index lower than i will be less than or equal to v\n",
        "  and all elements with index greater than i will be greater than v\n",
        "  logic: we take pivot arr[low] = p,moving index(i) = low and pointer arr[low+1=j]=q as we increase j by one until we reach the end of array\n",
        "  if arr[j]<=p we increment i by 1 and swap (arr[i],arr[j])\n",
        "  after loop is completed we swap pivot with moving index element because we know all the elements upto moving index are less than or equal to pivot.\n",
        "  Time Complexity : O(n) ,n= length of the input array that is n=high-low+1 and there is one loop in the function\n",
        "  so and loop runs n times so time complexity is O(n)\n",
        "  '''\n",
        "  pivot = arr [low] #first element as pivot\n",
        "  i = low # moving index\n",
        "  for j in range(low+1,high+1):         #traversing the array to change ,high+1 as range function dosen't include last element\n",
        "    if arr[j]<=pivot:                   # comparing with pivot and if it is less than or equal then swap it with moving index element\n",
        "      i+=1                              #moving index increased by 1\n",
        "      arr[i],arr[j]=arr[j],arr[i]       #swapping moving  index element  with arr[j]\n",
        "  arr[i],arr[low]= arr[low],arr[i]      #swapping the pivot element with the moving index element\n",
        "  return i                              #moving index\n"
      ],
      "execution_count": null,
      "outputs": []
    },
    {
      "cell_type": "code",
      "metadata": {
        "colab": {
          "base_uri": "https://localhost:8080/"
        },
        "id": "mnZv9dh5Xb09",
        "outputId": "07b2f234-58f2-4f1c-b470-8343e1b6ef87"
      },
      "source": [
        "partition([50,70,80,30,40,88,19,27,69],0,8)"
      ],
      "execution_count": null,
      "outputs": [
        {
          "output_type": "execute_result",
          "data": {
            "text/plain": [
              "4"
            ]
          },
          "metadata": {
            "tags": []
          },
          "execution_count": 52
        }
      ]
    },
    {
      "cell_type": "code",
      "metadata": {
        "id": "Rts3HZ_SZO6S"
      },
      "source": [
        "def quickSort(arr,low,high): # array = arr, low = lower index of array, high = higher index of array\n",
        "  if len(arr)==1:# small problem  Time complexity : O(1)\n",
        "    return arr\n",
        "  if low<high:# if length of the array is not one\n",
        "      m = partition(arr,low,high) #Time complexity O(n),where n = high-low+1\n",
        "      quickSort(arr,low,m-1)      #T(m-low),m = partition index,left partition recursive call \n",
        "      quickSort(arr,m+1,high)     #T(high-m),m = partition index,right partition recursive call"
      ],
      "execution_count": null,
      "outputs": []
    },
    {
      "cell_type": "code",
      "metadata": {
        "id": "Fvyds6n6kYOZ"
      },
      "source": [
        "import time"
      ],
      "execution_count": null,
      "outputs": []
    },
    {
      "cell_type": "code",
      "metadata": {
        "colab": {
          "base_uri": "https://localhost:8080/"
        },
        "id": "DWFlsZo9fP8c",
        "outputId": "a8b55453-e267-4a01-ea41-2c9f4ccac934"
      },
      "source": [
        "start = time.time()\n",
        "arr=[50,70,80,30,40,88,19,27,69]\n",
        "quickSort(arr,0,8)\n",
        "end = time.time()\n",
        "print(arr)\n",
        "print(\"Time taken : \",(end-start)*1000)"
      ],
      "execution_count": null,
      "outputs": [
        {
          "output_type": "stream",
          "text": [
            "[19, 27, 30, 40, 50, 69, 70, 80, 88]\n",
            "Time taken :  0.10037422180175781\n"
          ],
          "name": "stdout"
        }
      ]
    },
    {
      "cell_type": "code",
      "metadata": {
        "colab": {
          "base_uri": "https://localhost:8080/"
        },
        "id": "IWE5L-BXfbH2",
        "outputId": "eca761a2-eb93-464d-f302-56f2a4377153"
      },
      "source": [
        "#case I asceding order of array of 9 elements\n",
        "start = time.time()\n",
        "arr1=[1,2,3,4,5,6,7,8,9]\n",
        "quickSort(arr1,0,8)\n",
        "end=time.time()\n",
        "print(arr1)\n",
        "print(\"Time Taken: \",(end-start)*1000)"
      ],
      "execution_count": null,
      "outputs": [
        {
          "output_type": "stream",
          "text": [
            "[1, 2, 3, 4, 5, 6, 7, 8, 9]\n",
            "Time Taken:  0.08511543273925781\n"
          ],
          "name": "stdout"
        }
      ]
    },
    {
      "cell_type": "code",
      "metadata": {
        "colab": {
          "base_uri": "https://localhost:8080/"
        },
        "id": "nquEjP8ymQQV",
        "outputId": "6c4324c3-6144-4322-d60e-42456d306a33"
      },
      "source": [
        "#case II descending order of array of 9 elements\n",
        "start = time.time()\n",
        "arr2=[9,8,7,6,5,4,3,2,1]\n",
        "quickSort(arr2,0,8)\n",
        "end=time.time()\n",
        "print(arr2)\n",
        "print(\"Time taken: \",(end-start)*1000)"
      ],
      "execution_count": null,
      "outputs": [
        {
          "output_type": "stream",
          "text": [
            "[1, 2, 3, 4, 5, 6, 7, 8, 9]\n",
            "Time taken:  0.17547607421875\n"
          ],
          "name": "stdout"
        }
      ]
    },
    {
      "cell_type": "code",
      "metadata": {
        "colab": {
          "base_uri": "https://localhost:8080/"
        },
        "id": "cPnhJsK9nB7G",
        "outputId": "2988ce0d-ac82-45e8-f3b1-c8ea5b58c14a"
      },
      "source": [
        "#caseIII identical element array of 9 elements\n",
        "start= time.time()\n",
        "arr3=[9,9,9,9,9,9,9,9,9]\n",
        "quickSort(arr3,0,8)\n",
        "end=time.time()\n",
        "print(arr3)\n",
        "print(\"Time taken: \",(end-start)*1000)"
      ],
      "execution_count": null,
      "outputs": [
        {
          "output_type": "stream",
          "text": [
            "[9, 9, 9, 9, 9, 9, 9, 9, 9]\n",
            "Time taken:  0.091552734375\n"
          ],
          "name": "stdout"
        }
      ]
    },
    {
      "cell_type": "markdown",
      "metadata": {
        "id": "dTdpyC4XqTaV"
      },
      "source": [
        "###Identical Case\n",
        "\n",
        " *9*(italic),9,9,9,9,9,9,9,**9**(bold)- elements\n",
        "\n",
        " 0,1,2,3,4,5,6,7,8-index\n",
        "\n",
        "Italic  First 9 is the pivot and bold 9 is the last element,moving index =0\n",
        "\n",
        "In partition algorthim,\n",
        "first pivot 9 index 0 compares with  index(1) 9 as it is <=9 \n",
        "it will swap with moving index +=1 which is 1 that means it will swap with itself,likewise every element will swap it with istelf untill end\n",
        "\n",
        "at last we swap pivot with moving index (8 in this case) then array will become\n",
        "\n",
        "*9*(italic),9,9,9,9,9,9,9,**9**(bold)#before parition\n",
        "\n",
        "**9**(bold),9,9,9,9,9,9,9,*9*(italic)#after partition\n",
        "\n",
        "partition will return index 8 \n",
        "\n",
        "so left quicksort recursive call  will take 7 element array and\n",
        "and after each iteration it will reduce by 1\n",
        "\n",
        "right recursive will never run as high < low in right recursive call\n",
        "\n",
        "So Recurrence relation is T(n) = T(n-1) +n,So time complexity O(n^2)"
      ]
    },
    {
      "cell_type": "markdown",
      "metadata": {
        "id": "3dysyWzSusS1"
      },
      "source": [
        "###descending case\n",
        "\n",
        "9,8,7,6,5,4,3,2,1 Before partition function\n",
        "\n",
        "1,8,7,6,5,4,3,2,9 After partition function\n",
        "\n",
        "Same as Identical case in partition all elements will swap with themselves\n",
        "and at last pivot swapped with last element\n",
        "\n",
        "and left quicksort recursive call will take [1,8,7,6,5,4,3,2]\n",
        "and right quicksort recursive call won't run as low >high\n",
        "\n",
        "In first iteration  \n",
        "\n",
        "1,8,7,6,5,4,3,2 # before partition function\n",
        "\n",
        "2,8,7,6,5,4,3,1#after parition function\n",
        "\n",
        "so again  left recursive will take n-1 array\n",
        "\n",
        " right recursive won't run as high< low in recursive call\n",
        "\n",
        "Similar to identical.\n",
        "\n",
        "So time complexity T(n)=T(n-1)+n, O(n^2)\n",
        "\n"
      ]
    },
    {
      "cell_type": "markdown",
      "metadata": {
        "id": "Dl2q4Yz9wtH1"
      },
      "source": [
        "###ascending case\n",
        "\n",
        "1,2,3,4,5,6,7,8,9 Before partition function\n",
        "\n",
        "1,2,3,4,5,6,7,8,9 after partiion function \n",
        "\n",
        "both are same as now swaps take place in loop and end of loop \n",
        "pivot will swap with moving index = 0 that is same as pivot because\n",
        "it isn't moved in this case\n",
        "\n",
        "partition function will return  index 0\n",
        "\n",
        "now left recursive call will never run as low>high(m-1 which is -1)\n",
        "\n",
        "and right recursive call will take [2,3,4,5,6,7,8,9] \n",
        "\n",
        "for each recursive call array length is reduced by 1\n",
        "\n",
        "so time complexity, T(n) = T(n-1) + n, O(n^2)\n",
        "\n"
      ]
    },
    {
      "cell_type": "code",
      "metadata": {
        "id": "9LK0JYLQpUss"
      },
      "source": [
        ""
      ],
      "execution_count": null,
      "outputs": []
    }
  ]
}